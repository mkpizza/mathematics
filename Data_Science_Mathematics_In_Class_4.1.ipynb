{
 "cells": [
  {
   "cell_type": "code",
   "execution_count": 4,
   "metadata": {},
   "outputs": [
    {
     "data": {
      "text/plain": [
       "7.810249675906654"
      ]
     },
     "execution_count": 4,
     "metadata": {},
     "output_type": "execute_result"
    }
   ],
   "source": [
    "#Points [(10,12),(5,6)]\n",
    "import numpy as np\n",
    "np.sqrt((10-5)**2+(12-6)**2)"
   ]
  },
  {
   "cell_type": "code",
   "execution_count": 3,
   "metadata": {},
   "outputs": [
    {
     "data": {
      "text/plain": [
       "2.449489742783178"
      ]
     },
     "execution_count": 3,
     "metadata": {},
     "output_type": "execute_result"
    }
   ],
   "source": [
    "#Points [(10,12,5,6),(2,2,7,8)]\n",
    "np.sqrt((10-2)**2+(12-2)**2+(5-7)**2+(6-8)**2)"
   ]
  },
  {
   "cell_type": "code",
   "execution_count": null,
   "metadata": {},
   "outputs": [],
   "source": [
    "#Points {(5,4),(1,5),(3,2),(7,9)}\n",
    "\n",
    "def \n",
    "x1=np.array(5,1,3,7)\n",
    "y1=np.array(4,5,2,9)\n",
    "\n",
    "for \n",
    "\n",
    "# **NEED TO GO BACK AND FINISH**"
   ]
  },
  {
   "cell_type": "code",
   "execution_count": 7,
   "metadata": {},
   "outputs": [
    {
     "data": {
      "text/plain": [
       "array([0, 0, 1, 0], dtype=int32)"
      ]
     },
     "execution_count": 7,
     "metadata": {},
     "output_type": "execute_result"
    }
   ],
   "source": [
    "#Points{()()()()()}\n",
    "\n",
    "from sklearn.cluster import KMeans\n",
    "\n",
    "data=np.array([[1,24,367],\n",
    "              [2,35,450],\n",
    "              [5,63,750],\n",
    "              [8,19,109]])\n",
    "\n",
    "kmeans=KMeans(n_clusters=2, random_state=0).fit(data)\n",
    "\n",
    "kmeans.labels_"
   ]
  },
  {
   "cell_type": "code",
   "execution_count": 8,
   "metadata": {},
   "outputs": [
    {
     "data": {
      "text/plain": [
       "array([[  3.66666667,  26.        , 308.66666667],\n",
       "       [  5.        ,  63.        , 750.        ]])"
      ]
     },
     "execution_count": 8,
     "metadata": {},
     "output_type": "execute_result"
    }
   ],
   "source": [
    "kmeans.cluster_centers_"
   ]
  },
  {
   "cell_type": "code",
   "execution_count": null,
   "metadata": {},
   "outputs": [],
   "source": []
  }
 ],
 "metadata": {
  "kernelspec": {
   "display_name": "Python 3",
   "language": "python",
   "name": "python3"
  },
  "language_info": {
   "codemirror_mode": {
    "name": "ipython",
    "version": 3
   },
   "file_extension": ".py",
   "mimetype": "text/x-python",
   "name": "python",
   "nbconvert_exporter": "python",
   "pygments_lexer": "ipython3",
   "version": "3.8.3"
  }
 },
 "nbformat": 4,
 "nbformat_minor": 4
}
