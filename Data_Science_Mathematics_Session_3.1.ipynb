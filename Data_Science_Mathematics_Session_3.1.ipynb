{
 "cells": [
  {
   "cell_type": "code",
   "execution_count": 1,
   "metadata": {},
   "outputs": [],
   "source": [
    "# I was unable to open the regular Session 3 file. Apparently it was corrupted? \n",
    "#\n",
    "# Terminal ERROR: Unreadable Notebook: /home/EDSE-jeremymk-workspace/MST690/mathematics/Data_Science_Mathematics_Session_3.ipynb NotJSONError('Notebook does not abbear to be JSON: \\'{\\\\n \"cells\": [\\\\n {\\\\n \"cell_type\": \"m...')\n",
    "# \n",
    "# Jupyter ERROR: File \"Data_Science_Mathematics_Session_3.ipynb\" has unsaved changes, close without saving?\n",
    "# \n",
    "# Starting back here, just going to put the questions in from worksheet."
   ]
  },
  {
   "cell_type": "markdown",
   "metadata": {},
   "source": [
    "## 1) You have collected data on Chinese activitiy in the South China Sea that you believe are correlated. You suspect that the presence of Chinese submarines within the region is related to an increase in observed cyber activity.\n",
    "\n",
    "Submarine Sightings / Cyber Activity Metric\n",
    "1 / 0.021025\n",
    "2 / 0.022103\n",
    "3 / 0.023237\n",
    "4 / 0.024428\n",
    "5 / 0.025681\n",
    "6 / 0.026997\n",
    "7 / 0.028381\n",
    "8 / 0.029836\n",
    "9 / 0.031366\n",
    "10 / 0.032974\n",
    "\n",
    "### Answer the following:"
   ]
  },
  {
   "cell_type": "markdown",
   "metadata": {},
   "source": [
    "### 1a) Calculate the sample correlation coefficient."
   ]
  },
  {
   "cell_type": "code",
   "execution_count": 45,
   "metadata": {},
   "outputs": [
    {
     "name": "stdout",
     "output_type": "stream",
     "text": [
      "1.0667777507013008\n",
      "0.9980126947882119\n"
     ]
    }
   ],
   "source": [
    "import numpy as np\n",
    "\n",
    "x = [1,2,3,4,5,6,7,8,9,10]\n",
    "y = [0.021025,0.022103,0.023237,0.024428,0.025681,0.026997,0.028381,0.029836,0.031366,0.032974]\n",
    "\n",
    "xbar = np.mean(x)                           # Calculating mean of x values\n",
    "ybar = np.mean(y)                           # Calculating mean of y values\n",
    "sx = np.std(x,ddof=1)                       # Calculating sample (not population) standard deviation for x values\n",
    "sy = np.std(y,ddof=1)                       # Calculating sample (not population) standard deviation for y values\n",
    "n = len(x)                                  # Defining length of array\n",
    "\n",
    "for i in range(n):\n",
    "    covxy = (x[i] - xbar)*(y[i] - ybar)     # Numerator for bhat calculation\n",
    "    varx = (x[i] - xbar)**2                 # Denominator for bhat calculation\n",
    "    \n",
    "bhat = covxy / varx                         # Same calculation we did in class\n",
    "ahat = ybar - (bhat*xbar)                   # Same calculation we did in class\n",
    "                                            # We know that bhat = rxy*(sy/sx), so I solve for rxy = bhat/(sy/sx) or:\n",
    "rxy = bhat*sx/sy                            # This is the simplification of bhat/(sy/sx)\n",
    "\n",
    "\n",
    "print(rxy)\n",
    "\n",
    "# Now I want to compare this using SciPy to see if it gets the same answer\n",
    "\n",
    "from scipy import stats\n",
    "\n",
    "slope, intercept, r, p, stderror = stats.linregress(x,y)\n",
    "\n",
    "print(r)"
   ]
  },
  {
   "cell_type": "code",
   "execution_count": null,
   "metadata": {},
   "outputs": [],
   "source": [
    "# Can't figure out what is off... they are close, but I know you can't have an r value above 1, so clearly mine is wrong somewhere."
   ]
  },
  {
   "cell_type": "markdown",
   "metadata": {},
   "source": [
    "### 1b) Calculate the parameters Alpha-Hat and Beta-Hat."
   ]
  },
  {
   "cell_type": "code",
   "execution_count": 44,
   "metadata": {},
   "outputs": [
    {
     "name": "stdout",
     "output_type": "stream",
     "text": [
      "0.01881577777777778 0.0014158222222222224\n",
      "0.019317733333333337 0.001324557575757576\n"
     ]
    }
   ],
   "source": [
    "print(ahat, bhat)            # These are my calculations\n",
    "\n",
    "print(intercept, slope)      # Calculations using SciPy"
   ]
  },
  {
   "cell_type": "markdown",
   "metadata": {},
   "source": [
    "### 1c) Does a linear relationship exist between these data sets? How do you know?"
   ]
  },
  {
   "cell_type": "raw",
   "metadata": {},
   "source": [
    "Yes, a positive linear relationship exists, at least for the sample. This is indicated by the slope and can also been seen via a graph (below)."
   ]
  },
  {
   "cell_type": "code",
   "execution_count": 47,
   "metadata": {},
   "outputs": [
    {
     "data": {
      "image/png": "[encoded data removed]",
      "text/plain": [
       "<Figure size 432x288 with 1 Axes>"
      ]
     },
     "metadata": {
      "needs_background": "light"
     },
     "output_type": "display_data"
    }
   ],
   "source": [
    "import matplotlib.pyplot as plt\n",
    "plt.plot(x, y, 'o', label='sample data')\n",
    "plt.legend()\n",
    "plt.show()"
   ]
  },
  {
   "cell_type": "markdown",
   "metadata": {},
   "source": [
    "### 1d) Based on your calculations, is there a correlative relationship between cyber activity and submarines within the region?"
   ]
  },
  {
   "cell_type": "raw",
   "metadata": {},
   "source": [
    "Based on the above output, the sample correlation coefficient (rxy or r) is (by SciPy's calculation) 0.998, almost exactly 1, which indicates near perfect linear correlation between the number of Chinese submarines sighted and the observed cyber activity.\n",
    "\n",
    "In plain language, the rate of cyber activity occurs at almost exactly the same rate as the number of submarines observed.\n",
    "\n",
    "TL;DR: mo' subs, mo' cyber (and vice versa, as well as the inverse)."
   ]
  },
  {
   "cell_type": "markdown",
   "metadata": {},
   "source": [
    "## 2) You are developing a convolutional neural network for identifying Chinese military images on social media. Your loss function and gradient functions are:\n",
    "\n",
    "```\n",
    "f(m,b) = m^2 + b^2\n",
    "df(m,b) = [2m,2b]\n",
    "```\n",
    "\n",
    "### Answer the following:"
   ]
  },
  {
   "cell_type": "markdown",
   "metadata": {},
   "source": [
    "### 2a) Using a learning rate of 0.1, calculate the first 5 gradient descent iterations, beginning at (1,5). Did your model converge?"
   ]
  },
  {
   "cell_type": "code",
   "execution_count": 17,
   "metadata": {},
   "outputs": [
    {
     "name": "stdout",
     "output_type": "stream",
     "text": [
      "0.8 4.0 16.64\n",
      "0.64 3.2 10.649600000000001\n",
      "6.8157440000000005\n",
      "4.36207616\n",
      "2.7917287424\n"
     ]
    }
   ],
   "source": [
    "# Gradient descent formula is a(n+1) = a(n) - lambda*df(a(n))\n",
    "\n",
    "lr = 0.1\n",
    "x = 1\n",
    "y = 5\n",
    "dx = 2\n",
    "dy = 2\n",
    "\n",
    "x1 = x-(lr)*(dx*x)             #Should be 1-0.1*(2*1) = 0.8\n",
    "y1 = y-(lr)*(dy*y)             #Should be 5-0.1*(2*5) = 4\n",
    "print(x1, y1, x1**2 + y1**2)   #Should be (0.8)**2 + (4)**2 = 16.64\n",
    "\n",
    "x2 = x1-(lr)*(dx*x1)           #Should be 0.8-0.1*(2*0.8) = 0.64\n",
    "y2 = y1-(lr)*(dy*y1)           #Should be 4-0.1*(2*4) = 3.2\n",
    "print(x2, y2, x2**2 + y2**2)   #Should be (0.64)**2 + (3.2)**2 = 10.6496\n",
    "\n",
    "x3 = x2-(lr)*(dx*x2)\n",
    "y3 = y2-(lr)*(dy*y2)\n",
    "print(x3**2 + y3**2)\n",
    "\n",
    "x4 = x3-(lr)*(dx*x3)\n",
    "y4 = y3-(lr)*(dy*y3)\n",
    "print(x4**2 + y4**2)\n",
    "\n",
    "x5 = x4-(lr)*(dx*x4)\n",
    "y5 = y4-(lr)*(dy*y4)\n",
    "print(x5**2 + y5**2)"
   ]
  },
  {
   "cell_type": "markdown",
   "metadata": {},
   "source": [
    "### 2b) Increase the learning rate to 0.5, and repeat 2a) - does your model converge?"
   ]
  },
  {
   "cell_type": "code",
   "execution_count": 19,
   "metadata": {},
   "outputs": [
    {
     "name": "stdout",
     "output_type": "stream",
     "text": [
      "0.0 0.0 0.0\n",
      "0.0 0.0 0.0\n",
      "0.0\n",
      "0.0\n",
      "0.0\n"
     ]
    }
   ],
   "source": [
    "# Gradient descent formula is a(n+1) = a(n) - lambda*df(a(n))\n",
    "\n",
    "lr = 0.5\n",
    "x = 1\n",
    "y = 5\n",
    "dx = 2     #I'm not positive this is the right way to code this, but the math works out...\n",
    "dy = 2     #I'm not positive this is the right way to code this, but the math works out...\n",
    "\n",
    "x1 = x-(lr)*(dx*x)             #Should be 1-0.5*(2*1) = 0\n",
    "y1 = y-(lr)*(dy*y)             #Should be 5-0.5*(2*5) = 0\n",
    "print(x1, y1, x1**2 + y1**2)   #Should be (0)**2 + (0)**2 = 0\n",
    "\n",
    "x2 = x1-(lr)*(dx*x1)           #Should be 0-0.5*(2*0) = 0\n",
    "y2 = y1-(lr)*(dy*y1)           #Should be -20-0.5*(2*-20) = 0\n",
    "print(x2, y2, x2**2 + y2**2)   #Should be (0)**2 + (0)**2 = 0\n",
    "\n",
    "x3 = x2-(lr)*(dx*x2)\n",
    "y3 = y2-(lr)*(dy*y2)\n",
    "print(x3**2 + y3**2)\n",
    "\n",
    "x4 = x3-(lr)*(dx*x3)\n",
    "y4 = y3-(lr)*(dy*y3)\n",
    "print(x4**2 + y4**2)\n",
    "\n",
    "x5 = x4-(lr)*(dx*x4)\n",
    "y5 = y4-(lr)*(dy*y4)\n",
    "print(x5**2 + y5**2)"
   ]
  },
  {
   "cell_type": "markdown",
   "metadata": {},
   "source": [
    "### 2c) Explain the significance of the learning rate. Does it have an impact on the convergence of your model?"
   ]
  },
  {
   "cell_type": "raw",
   "metadata": {},
   "source": [
    "The learning rate absolutely impacts the identification of convergence, as a faster learning rate (larger step rate) measures the gradient descent at greater intervals, meaning that there are fewer measurements needed in order to converge (but that also comes with the risk of overshooting). In the second iteration, it immediately went to zero, totally unclear where the convergence took place."
   ]
  }
 ],
 "metadata": {
  "kernelspec": {
   "display_name": "Python 3",
   "language": "python",
   "name": "python3"
  },
  "language_info": {
   "codemirror_mode": {
    "name": "ipython",
    "version": 3
   },
   "file_extension": ".py",
   "mimetype": "text/x-python",
   "name": "python",
   "nbconvert_exporter": "python",
   "pygments_lexer": "ipython3",
   "version": "3.8.3"
  }
 },
 "nbformat": 4,
 "nbformat_minor": 4
}
