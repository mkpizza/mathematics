{
 "cells": [
  {
   "cell_type": "markdown",
   "metadata": {},
   "source": [
    "# Data Science Mathematics\n",
    "# Social Network Analysis\n",
    "# In-Class Activity"
   ]
  },
  {
   "cell_type": "markdown",
   "metadata": {},
   "source": [
    "Refer to the handout for a description of this activity.\n",
    "\n",
    "You will analyze the two ego graphs provided.  One is a known Russian bot, and the other is unknown.  Based on graph resonance, determine if the unknown graph is likely to be a military person.  You will also calculate the clustering coefficients for each graph, and enumerate the communities.\n",
    "\n",
    "First, import the relevant libraries."
   ]
  },
  {
   "cell_type": "code",
   "execution_count": 1,
   "metadata": {},
   "outputs": [],
   "source": [
    "import networkx as nx\n",
    "import pickle\n",
    "import os\n",
    "import math\n",
    "import matplotlib.pyplot as plt\n",
    "import numpy as np"
   ]
  },
  {
   "cell_type": "markdown",
   "metadata": {},
   "source": [
    "The graph objects have been serialized.  Build a function to load them into memory using pickle."
   ]
  },
  {
   "cell_type": "code",
   "execution_count": 2,
   "metadata": {},
   "outputs": [],
   "source": [
    "#open pickle file\n",
    "def open_pickle(pickle_path):\n",
    "    with open(pickle_path, 'rb') as pickle_file:\n",
    "        object_name = pickle.load(pickle_file)\n",
    "    return object_name"
   ]
  },
  {
   "cell_type": "markdown",
   "metadata": {},
   "source": [
    "You will have to calculate the resonance for all vertices in your ego graphs.  Define a function to calculate the betweenness centralities for all vertices."
   ]
  },
  {
   "cell_type": "code",
   "execution_count": 3,
   "metadata": {},
   "outputs": [],
   "source": [
    "#Get betweenness centrality\n",
    "def spectrum(G):\n",
    "    centrality = nx.betweenness_centrality(G)\n",
    "    return centrality"
   ]
  },
  {
   "cell_type": "markdown",
   "metadata": {},
   "source": [
    "Now, define a function for calculating graph resonance."
   ]
  },
  {
   "cell_type": "code",
   "execution_count": 4,
   "metadata": {},
   "outputs": [],
   "source": [
    "#Calculate graph resonance between graphs G1 and G2, with resonances S1 and S2, respectively\n",
    "def resonate(G1, S1, G2, S2):\n",
    "    res_divisor_1 = sum([a**2 for a in S1.values()])\n",
    "    res_divisor_2 = sum([a**2 for a in S2.values()])\n",
    "    res_divisor = math.sqrt(res_divisor_1*res_divisor_2)\n",
    "    if res_divisor == 0:\n",
    "        resonance = 0.0\n",
    "    else:\n",
    "        G1_nodes = G1.nodes()\n",
    "        G2_nodes = G2.nodes()\n",
    "        G_intersect = list(set(G1_nodes) & set(G2_nodes))\n",
    "        if len(G_intersect) != 0:\n",
    "            S1_list = [S1[node] for node in G_intersect]\n",
    "            S1_array = np.array(S1_list)\n",
    "            S2_list = [S2[node] for node in G_intersect]\n",
    "            S2_array = np.array(S2_list)\n",
    "            resonance_raw = np.dot(S1_array, S2_array)\n",
    "            resonance = resonance_raw/res_divisor\n",
    "        else:\n",
    "            resonance = 0.0\n",
    "    return resonance"
   ]
  },
  {
   "cell_type": "markdown",
   "metadata": {},
   "source": [
    "It is important to know the clustering coefficients for each graph.  You should define a function for that."
   ]
  },
  {
   "cell_type": "code",
   "execution_count": 5,
   "metadata": {},
   "outputs": [],
   "source": [
    "#Calculate clustering coefficient for graph G\n",
    "def clustering_coeff(G):\n",
    "    c = nx.average_clustering(G)\n",
    "    return c"
   ]
  },
  {
   "cell_type": "markdown",
   "metadata": {},
   "source": [
    "You will also want to enumerate the communities in each graph.  Let's define a function to use the Clauset-Newman-Moore algorithm for community detection."
   ]
  },
  {
   "cell_type": "code",
   "execution_count": 6,
   "metadata": {},
   "outputs": [],
   "source": [
    "#Community detection\n",
    "def get_communities(G):\n",
    "    from networkx.algorithms.community import greedy_modularity_communities\n",
    "    communities = list(greedy_modularity_communities(G))\n",
    "    return communities"
   ]
  },
  {
   "cell_type": "markdown",
   "metadata": {},
   "source": [
    "Now that you've defined all your functions, let's import the graphs.  Specify the absolute paths of your ego graphs."
   ]
  },
  {
   "cell_type": "code",
   "execution_count": 8,
   "metadata": {},
   "outputs": [],
   "source": [
    "#Note that you have to specify the absolute paths yourself for the graphs associated with this exercise\n",
    "#Here is an example:\n",
    "#r'C:\\Directory1\\Directory2\\File_Name.pkl'\n",
    "\n",
    "known_bot_path = r'/home/EDSE-jeremymk-workspace/MST690/mathematics/known_bot2_Session7.pkl'\n",
    "unknown_path_1 = r'/home/EDSE-jeremymk-workspace/MST690/mathematics/known_bot2_Session7.pkl'"
   ]
  },
  {
   "cell_type": "markdown",
   "metadata": {},
   "source": [
    "Now let's load each graph."
   ]
  },
  {
   "cell_type": "code",
   "execution_count": 9,
   "metadata": {},
   "outputs": [],
   "source": [
    "known_bot = open_pickle(known_bot_path)\n",
    "unknown_1 = open_pickle(unknown_path_1)"
   ]
  },
  {
   "cell_type": "markdown",
   "metadata": {},
   "source": [
    "Let's explore our graphs a bit.  How many nodes (vertices) are in each one?  What does this mean?"
   ]
  },
  {
   "cell_type": "code",
   "execution_count": 11,
   "metadata": {},
   "outputs": [
    {
     "name": "stdout",
     "output_type": "stream",
     "text": [
      "Vertices in Known Bot: 543\n",
      "Vertices in Unknown 1: 543\n"
     ]
    }
   ],
   "source": [
    "print('Vertices in Known Bot: {}'.format(len(known_bot.nodes())))\n",
    "print('Vertices in Unknown 1: {}'.format(len(unknown_1.nodes())))"
   ]
  },
  {
   "cell_type": "markdown",
   "metadata": {},
   "source": [
    "Let's also plot slices of each graph.  But first, we need to induce subgraphs from each graph because there are probably too many vertices to make a good plot."
   ]
  },
  {
   "cell_type": "code",
   "execution_count": 12,
   "metadata": {},
   "outputs": [],
   "source": [
    "#Get slices (subsets) of each edge set.\n",
    "known_bot_end = int(0.1*len(known_bot.edges()))\n",
    "unknown_1_end = int(0.1*len(unknown_1.edges()))\n",
    "known_bot_edges_slice = list(known_bot.edges())[0:known_bot_end]\n",
    "unknown_1_edges_slice = list(unknown_1.edges())[0:unknown_1_end]\n",
    "\n",
    "#Induce subgraphs\n",
    "KB_sub = known_bot.edge_subgraph(known_bot_edges_slice)\n",
    "U1_sub = unknown_1.edge_subgraph(unknown_1_edges_slice)"
   ]
  },
  {
   "cell_type": "markdown",
   "metadata": {},
   "source": [
    "The known bot graph is quite large and will take a while to draw, so we will skip that one for now."
   ]
  },
  {
   "cell_type": "markdown",
   "metadata": {},
   "source": [
    "Let's plot the unknown 1 graph."
   ]
  },
  {
   "cell_type": "code",
   "execution_count": 13,
   "metadata": {},
   "outputs": [
    {
     "data": {
      "image/png": "[encoded data removed]",
      "text/plain": [
       "<Figure size 432x288 with 1 Axes>"
      ]
     },
     "metadata": {},
     "output_type": "display_data"
    }
   ],
   "source": [
    "nx.draw(U1_sub)\n",
    "plt.show()"
   ]
  },
  {
   "cell_type": "markdown",
   "metadata": {},
   "source": [
    "Now plot the known bot graph in the line below:"
   ]
  },
  {
   "cell_type": "code",
   "execution_count": 14,
   "metadata": {},
   "outputs": [
    {
     "data": {
      "image/png": "[encoded data removed]",
      "text/plain": [
       "<Figure size 432x288 with 1 Axes>"
      ]
     },
     "metadata": {},
     "output_type": "display_data"
    }
   ],
   "source": [
    "nx.draw(KB_sub)\n",
    "plt.show()"
   ]
  },
  {
   "cell_type": "markdown",
   "metadata": {},
   "source": [
    "Now that you've loaded the graphs into memory, you need to calculate the centralities for each vertex in each graph."
   ]
  },
  {
   "cell_type": "code",
   "execution_count": 15,
   "metadata": {},
   "outputs": [],
   "source": [
    "known_bot_centralities = spectrum(known_bot)\n",
    "unknown_1_centralities = spectrum(unknown_1)"
   ]
  },
  {
   "cell_type": "markdown",
   "metadata": {},
   "source": [
    "Now calculate the clustering coefficients for each graph."
   ]
  },
  {
   "cell_type": "code",
   "execution_count": 16,
   "metadata": {},
   "outputs": [],
   "source": [
    "known_bot_cluster = clustering_coeff(known_bot)\n",
    "unknown_1_cluster = clustering_coeff(unknown_1)"
   ]
  },
  {
   "cell_type": "markdown",
   "metadata": {},
   "source": [
    "Let's analyze the clustering coefficients.  How similar are they?  What do they tell you about each graph?"
   ]
  },
  {
   "cell_type": "code",
   "execution_count": 17,
   "metadata": {},
   "outputs": [
    {
     "name": "stdout",
     "output_type": "stream",
     "text": [
      "Known Bot Clustering Coefficient: 0.20371874907173476\n",
      "Unknown 1 Clustering Coefficient: 0.20371874907173476\n"
     ]
    }
   ],
   "source": [
    "print('Known Bot Clustering Coefficient: {}'.format(known_bot_cluster))\n",
    "print('Unknown 1 Clustering Coefficient: {}'.format(unknown_1_cluster))"
   ]
  },
  {
   "cell_type": "markdown",
   "metadata": {},
   "source": [
    "Now we need to calculate the resonance between the graphs.  We have already calculated the betweenness centralites for each, which is required for the resonance calculation.  What does the resonance tell us?"
   ]
  },
  {
   "cell_type": "code",
   "execution_count": 18,
   "metadata": {},
   "outputs": [],
   "source": [
    "#Resonance between Known Bot and Unknown 1\n",
    "K_1_res = resonate(known_bot, known_bot_centralities, unknown_1, unknown_1_centralities)"
   ]
  },
  {
   "cell_type": "markdown",
   "metadata": {},
   "source": [
    "Now let's examine our resonance output."
   ]
  },
  {
   "cell_type": "code",
   "execution_count": 19,
   "metadata": {},
   "outputs": [
    {
     "name": "stdout",
     "output_type": "stream",
     "text": [
      "Resonance between Known Bot and Unknown 1: 1.0000000000000002\n"
     ]
    }
   ],
   "source": [
    "print('Resonance between Known Bot and Unknown 1: {}'.format(K_1_res))"
   ]
  },
  {
   "cell_type": "markdown",
   "metadata": {},
   "source": [
    "Now let's explore the communities in each graph."
   ]
  },
  {
   "cell_type": "code",
   "execution_count": 20,
   "metadata": {},
   "outputs": [],
   "source": [
    "Known_Bot_Communities = get_communities(known_bot)\n",
    "Unknown_1_Communities = get_communities(unknown_1)"
   ]
  },
  {
   "cell_type": "markdown",
   "metadata": {},
   "source": [
    "Now, let's examine our communities output."
   ]
  },
  {
   "cell_type": "code",
   "execution_count": 21,
   "metadata": {},
   "outputs": [
    {
     "name": "stdout",
     "output_type": "stream",
     "text": [
      "Known Bot Communities\n",
      "240\n",
      "143\n",
      "75\n",
      "46\n",
      "39\n",
      "=====================\n",
      "Unknown 1 Communities\n",
      "240\n",
      "143\n",
      "75\n",
      "46\n",
      "39\n"
     ]
    }
   ],
   "source": [
    "print('Known Bot Communities')\n",
    "for community in Known_Bot_Communities:\n",
    "    print(len(community))\n",
    "print('=====================')\n",
    "\n",
    "print('Unknown 1 Communities')\n",
    "for community in Unknown_1_Communities:\n",
    "    print(len(community))"
   ]
  },
  {
   "cell_type": "markdown",
   "metadata": {},
   "source": [
    "Use your output to answer the questions on the activity handout."
   ]
  },
  {
   "cell_type": "markdown",
   "metadata": {},
   "source": [
    "###You are an OSINT analyst wit hthe CIA, and you have been assigned a Russian bot network to analyze. You want to develop an algorithm for bot community detection based on ego graph similarity. _You hypothesize that bots will follow similar people, and thus will have similar ego networks._\n",
    "\n",
    "> Answer the following:"
   ]
  },
  {
   "cell_type": "markdown",
   "metadata": {},
   "source": [
    "###a) What metric will allow you to quantify the similarity between graphs?"
   ]
  },
  {
   "cell_type": "code",
   "execution_count": null,
   "metadata": {},
   "outputs": [],
   "source": [
    "Resonance allows us to easily determine similarity between graphs on a scale of 0 (completely dissimilar) to 1 (identical)."
   ]
  },
  {
   "cell_type": "markdown",
   "metadata": {},
   "source": [
    "###b) Using the Python notebook provided, calculate the network centralities, clustering coefficients, and resonance; enumerate the communities within the ego graphs provided."
   ]
  },
  {
   "cell_type": "markdown",
   "metadata": {},
   "source": [
    "See above code - results (minus centralities, which would be crazy to print) are as follows:"
   ]
  },
  {
   "cell_type": "code",
   "execution_count": 23,
   "metadata": {},
   "outputs": [
    {
     "name": "stdout",
     "output_type": "stream",
     "text": [
      "Known Bot Clustering Coefficient: 0.20371874907173476\n",
      "Unknown 1 Clustering Coefficient: 0.20371874907173476\n"
     ]
    }
   ],
   "source": [
    "print('Known Bot Clustering Coefficient: {}'.format(known_bot_cluster))\n",
    "print('Unknown 1 Clustering Coefficient: {}'.format(unknown_1_cluster))"
   ]
  },
  {
   "cell_type": "code",
   "execution_count": 24,
   "metadata": {},
   "outputs": [
    {
     "name": "stdout",
     "output_type": "stream",
     "text": [
      "Resonance between Known Bot and Unknown 1: 1.0000000000000002\n"
     ]
    }
   ],
   "source": [
    "print('Resonance between Known Bot and Unknown 1: {}'.format(K_1_res))"
   ]
  },
  {
   "cell_type": "code",
   "execution_count": 25,
   "metadata": {},
   "outputs": [
    {
     "name": "stdout",
     "output_type": "stream",
     "text": [
      "Known Bot Communities\n",
      "240\n",
      "143\n",
      "75\n",
      "46\n",
      "39\n",
      "=====================\n",
      "Unknown 1 Communities\n",
      "240\n",
      "143\n",
      "75\n",
      "46\n",
      "39\n"
     ]
    }
   ],
   "source": [
    "print('Known Bot Communities')\n",
    "for community in Known_Bot_Communities:\n",
    "    print(len(community))\n",
    "print('=====================')\n",
    "\n",
    "print('Unknown 1 Communities')\n",
    "for community in Unknown_1_Communities:\n",
    "    print(len(community))"
   ]
  },
  {
   "cell_type": "markdown",
   "metadata": {},
   "source": [
    "###c) One of the ego networks is from a known bot, and the other is unknown. Based on your analysis, is the unknown network likely to be a bot?"
   ]
  },
  {
   "cell_type": "markdown",
   "metadata": {},
   "source": [
    "Yes, it appears likely to be a bot; the resonance is near-perfect the clustering coefficient and communities are identifcal."
   ]
  },
  {
   "cell_type": "markdown",
   "metadata": {},
   "source": [
    "###d) Ego graphs are constructed from social connections, in this case, Twitter followers.\n",
    "\n",
    "- **Do you think your hypothesis is a reasonable one, i.e. is Twitter follower status a sufficient indicator of a true connection? Why or why not, or does it depend on other factors?**\n",
    "\n",
    "It seems like a reasonable measure of connection solely within the domain of Twitter, based off of a given graph resonance - there is no one \"right\" answer because it depends on the application you are seeking and the level of risk associated with the given decisions. If you want to target a specific Twitter account for some sort of action based solely on connections, the action should have an associated level of risk, which, combined with the level of resonance and other contextual factors, will suggest an approach (e.g. do you watchlist an account because it seems to be part of a network, or do you attempt something more intrusive because it seems to be associated with illegal or violent actions with immediate consequences - each context has different risk levels). \n",
    "\n",
    "Extrapolating connection beyond that domain to attempt to understand external relationships (e.g. do these connections exist in addition to some other kind of relationship) would benefit from additional analysis of specific interactions between accounts and other factors.\n",
    "\n",
    "- **Are there other methods of generating graph edges that might better represent a possible relationship? Explain your reasoning.**\n",
    "\n",
    "Interactions between accounts / nodes and each other or certain other accounts seems like another approach, e.g. if I see two accounts that are both retweeting another account (or series of accounts) with relative frequency, or similar language, then measuring those features might provide another means of identifying connections. The same might be said of features like the time they are active / inactive, whether they are using some form of non-native URL shortening, etc. - whether those would be \"better\" seems like it would need to be contextualized, so a universal answer is unlikely."
   ]
  },
  {
   "cell_type": "markdown",
   "metadata": {},
   "source": [
    "***Now save your output.  Go to File -> Print Preview and save your final output as a PDF.  Turn in to your Instructor, along with any additional sheets."
   ]
  }
 ],
 "metadata": {
  "kernelspec": {
   "display_name": "Python 3",
   "language": "python",
   "name": "python3"
  },
  "language_info": {
   "codemirror_mode": {
    "name": "ipython",
    "version": 3
   },
   "file_extension": ".py",
   "mimetype": "text/x-python",
   "name": "python",
   "nbconvert_exporter": "python",
   "pygments_lexer": "ipython3",
   "version": "3.8.3"
  }
 },
 "nbformat": 4,
 "nbformat_minor": 4
}
